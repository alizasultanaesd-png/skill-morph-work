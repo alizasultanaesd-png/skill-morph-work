{
  "nbformat": 4,
  "nbformat_minor": 0,
  "metadata": {
    "colab": {
      "provenance": [],
      "toc_visible": true,
      "authorship_tag": "ABX9TyN2eqHNJ1QyW8P7q73bi/WI",
      "include_colab_link": true
    },
    "kernelspec": {
      "name": "python3",
      "display_name": "Python 3"
    },
    "language_info": {
      "name": "python"
    }
  },
  "cells": [
    {
      "cell_type": "markdown",
      "metadata": {
        "id": "view-in-github",
        "colab_type": "text"
      },
      "source": [
        "<a href=\"https://colab.research.google.com/github/alizasultanaesd-png/skill-morph-work/blob/main/introduction.ipynb\" target=\"_parent\"><img src=\"https://colab.research.google.com/assets/colab-badge.svg\" alt=\"Open In Colab\"/></a>"
      ]
    },
    {
      "cell_type": "code",
      "execution_count": null,
      "metadata": {
        "colab": {
          "base_uri": "https://localhost:8080/"
        },
        "id": "PQNRVyAGcKkj",
        "outputId": "fce24c84-350c-4906-8006-f876437c6218"
      },
      "outputs": [
        {
          "output_type": "stream",
          "name": "stdout",
          "text": [
            "Thanks to skill morph!!\n"
          ]
        }
      ],
      "source": [
        "print(\"Thanks to skill morph!!\")"
      ]
    },
    {
      "cell_type": "code",
      "source": [
        "29+30"
      ],
      "metadata": {
        "colab": {
          "base_uri": "https://localhost:8080/"
        },
        "id": "vCuDF-n2ccAW",
        "outputId": "bd48ec86-c1a9-46c2-bc26-e366711b3831"
      },
      "execution_count": null,
      "outputs": [
        {
          "output_type": "execute_result",
          "data": {
            "text/plain": [
              "59"
            ]
          },
          "metadata": {},
          "execution_count": 2
        }
      ]
    },
    {
      "cell_type": "code",
      "source": [],
      "metadata": {
        "id": "EOiZ3s8Bcw3l"
      },
      "execution_count": null,
      "outputs": []
    },
    {
      "cell_type": "markdown",
      "source": [
        "# **Chapter**"
      ],
      "metadata": {
        "id": "-0Hq8tSwcznS"
      }
    },
    {
      "cell_type": "code",
      "source": [],
      "metadata": {
        "id": "A1tUhFPVc4PE"
      },
      "execution_count": null,
      "outputs": []
    },
    {
      "cell_type": "markdown",
      "source": [
        "## **Chapter 1**"
      ],
      "metadata": {
        "id": "A7qyT9RRc58f"
      }
    },
    {
      "cell_type": "code",
      "source": [],
      "metadata": {
        "id": "JH3nRQVJc--G"
      },
      "execution_count": null,
      "outputs": []
    },
    {
      "cell_type": "markdown",
      "source": [
        "### **sub Chapter 1**"
      ],
      "metadata": {
        "id": "CGb6tlQAdIio"
      }
    },
    {
      "cell_type": "code",
      "source": [],
      "metadata": {
        "id": "yjyLcjotdQFo"
      },
      "execution_count": null,
      "outputs": []
    }
  ]
}