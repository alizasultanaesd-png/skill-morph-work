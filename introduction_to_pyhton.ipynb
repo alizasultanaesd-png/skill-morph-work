{
  "nbformat": 4,
  "nbformat_minor": 0,
  "metadata": {
    "colab": {
      "provenance": [],
      "toc_visible": true,
      "include_colab_link": true
    },
    "kernelspec": {
      "name": "python3",
      "display_name": "Python 3"
    },
    "language_info": {
      "name": "python"
    }
  },
  "cells": [
    {
      "cell_type": "markdown",
      "metadata": {
        "id": "view-in-github",
        "colab_type": "text"
      },
      "source": [
        "<a href=\"https://colab.research.google.com/github/alizasultanaesd-png/skill-morph-work/blob/main/introduction_to_pyhton.ipynb\" target=\"_parent\"><img src=\"https://colab.research.google.com/assets/colab-badge.svg\" alt=\"Open In Colab\"/></a>"
      ]
    },
    {
      "cell_type": "markdown",
      "source": [
        "# **Introduction**"
      ],
      "metadata": {
        "id": "W_QAF1pXTYGD"
      }
    },
    {
      "cell_type": "code",
      "source": [
        "print(\"hello world\")"
      ],
      "metadata": {
        "colab": {
          "base_uri": "https://localhost:8080/"
        },
        "id": "LxCwn6LRThbx",
        "outputId": "e81eb89d-05a3-48ad-99a9-2d26dfd40553"
      },
      "execution_count": null,
      "outputs": [
        {
          "output_type": "stream",
          "name": "stdout",
          "text": [
            "hello world\n"
          ]
        }
      ]
    },
    {
      "cell_type": "markdown",
      "source": [
        "## **Variable**"
      ],
      "metadata": {
        "id": "TTZyaE8GT7fK"
      }
    },
    {
      "cell_type": "code",
      "source": [
        "# 2.1 Creating variables for your name, age, and favorite color, then print them with descriptive labels\n",
        "name = \"Aliza\"\n",
        "age = 31\n",
        "is_student = True #boolean\n",
        "height = 5.9 #float\n",
        "favorite_color = \"purple\"\n",
        "# Printing variables\n",
        "print(\"Name:\", name)\n",
        "print(\"Age:\", age)\n",
        "print(\"Student status:\", is_student)\n",
        "print(\"Height:\", height, \"feet\")\n",
        "print(\"Favorite Color:\", favorite_color)"
      ],
      "metadata": {
        "colab": {
          "base_uri": "https://localhost:8080/"
        },
        "id": "CaR4RWa3UAPn",
        "outputId": "3e278f15-6904-4b69-833a-a62bd0d98c0e"
      },
      "execution_count": 1,
      "outputs": [
        {
          "output_type": "stream",
          "name": "stdout",
          "text": [
            "Name: Aliza\n",
            "Age: 31\n",
            "Student status: True\n",
            "Height: 5.9 feet\n",
            "Favorite Color: purple\n"
          ]
        }
      ]
    },
    {
      "cell_type": "code",
      "source": [
        "# 2.2 Create one variable of each type and use the type() function to verify its type.\n",
        "name = \"Aliza\"\n",
        "address = 'Khulna'\n",
        "age = 25\n",
        "price = 98.50\n",
        "is_valid = True\n",
        "has_paid = False\n",
        "result = None\n",
        "print(type(name))\n",
        "print(type(address))\n",
        "print(type(age))\n",
        "print(type(price))\n",
        "print(type(is_valid))\n",
        "print(type(has_paid))\n",
        "print(type(result))\n"
      ],
      "metadata": {
        "colab": {
          "base_uri": "https://localhost:8080/"
        },
        "id": "vyZ0jc1hUw8f",
        "outputId": "fc556ed5-740f-4c3b-c7b1-d88e18bc62cd"
      },
      "execution_count": 2,
      "outputs": [
        {
          "output_type": "stream",
          "name": "stdout",
          "text": [
            "<class 'str'>\n",
            "<class 'str'>\n",
            "<class 'int'>\n",
            "<class 'float'>\n",
            "<class 'bool'>\n",
            "<class 'bool'>\n",
            "<class 'NoneType'>\n"
          ]
        }
      ]
    },
    {
      "cell_type": "code",
      "source": [
        "# 2.3 Calculating the area and perimeter of a rectangle with length 7 and width 5\n",
        "length = 7\n",
        "width = 5\n",
        "\n",
        "area = length * width\n",
        "perimeter = 2 * (length + width)\n",
        "\n",
        "print(\"area of the rectangle:\", area)\n",
        "print(\"perimeter of the rectangle:\", perimeter)\n"
      ],
      "metadata": {
        "colab": {
          "base_uri": "https://localhost:8080/"
        },
        "id": "z9tYpKVRHtjD",
        "outputId": "dbe43b18-ca98-4fb1-f63b-b59a83b1fcfc"
      },
      "execution_count": 6,
      "outputs": [
        {
          "output_type": "stream",
          "name": "stdout",
          "text": [
            "area of the rectangle: 35\n",
            "perimeter of the rectangle: 24\n"
          ]
        }
      ]
    },
    {
      "cell_type": "code",
      "source": [
        "first = \"my\"\n",
        "last = \"preceious\"\n",
        "# Concatenation\n",
        "full = first + \" \" + last\n",
        "print(full)  # my precious\n",
        "# Repetition\n",
        "repeated = (first + \" \") * 3\n",
        "print(repeated)\n",
        "\n",
        "#Length\n",
        "print(len(full))"
      ],
      "metadata": {
        "colab": {
          "base_uri": "https://localhost:8080/"
        },
        "id": "tf1TnrgaIA2t",
        "outputId": "a374a3b5-a9a6-44d9-bee3-279c2046ebe1"
      },
      "execution_count": 14,
      "outputs": [
        {
          "output_type": "stream",
          "name": "stdout",
          "text": [
            "my preceious\n",
            "my my my \n",
            "12\n"
          ]
        }
      ]
    },
    {
      "cell_type": "markdown",
      "source": [
        "## **Data Structure**"
      ],
      "metadata": {
        "id": "vq2YKKy-Jry0"
      }
    },
    {
      "cell_type": "code",
      "source": [
        "# 2.4 Creating a list of 5 Bangladeshi foods, then access the first and\n",
        "last elements\n",
        "bangladeshi_foods = [\"Biriyani\", \"Shorshe Ilish\", \"Panta Ilish\", \"Fuchka\", \"Chingri Malai Curry\"]\n",
        "# Accessing elements (indexing starts at 0)\n",
        "print(bangladeshi_foods[0])       # Biriyani\n",
        "print(bangladeshi_foods[4])       # Chingri Malai Curry\n",
        "# Negative indexing (counts from the end)\n",
        "print(bangladeshi_foods[-1])      # Chingri Malai Curry\n",
        "# Slicing lists\n",
        "print(bangladeshi_foods[1:4])     # ['Shorshe Ilish', 'Panta Ilish’]\n",
        "# Changing an element\n",
        "bangladeshi_foods[1] = \"alu vorta\"\n",
        "print(bangladeshi_foods)          # [\"Biriyani\", \"alu vorta\", \"Panta Ilish\", \"Fuchka\", \"Chingri Malai Curry\"]]\n"
      ],
      "metadata": {
        "colab": {
          "base_uri": "https://localhost:8080/"
        },
        "id": "scUfbWiIJvz_",
        "outputId": "cad3d96b-9261-47cc-8117-c1c5d97f7c6a"
      },
      "execution_count": 1,
      "outputs": [
        {
          "output_type": "stream",
          "name": "stdout",
          "text": [
            "Biriyani\n",
            "Chingri Malai Curry\n",
            "Chingri Malai Curry\n",
            "['Shorshe Ilish', 'Panta Ilish', 'Fuchka']\n",
            "['Biriyani', 'alu vorta', 'Panta Ilish', 'Fuchka', 'Chingri Malai Curry']\n"
          ]
        }
      ]
    },
    {
      "cell_type": "code",
      "source": [
        "# 2.5 Adding 5 numbers in List\n",
        "number_list = [10, 11, 20, 21, 30]\n",
        "number_list.append( 31 )    # Add to end\n",
        "number_list.insert(1, 8)  # Insert at position\n",
        "print(number_list)\n"
      ],
      "metadata": {
        "colab": {
          "base_uri": "https://localhost:8080/"
        },
        "id": "yDqL7OfJLb8v",
        "outputId": "0ba6183f-7f3b-4bc5-96fe-cc4dec408904"
      },
      "execution_count": 5,
      "outputs": [
        {
          "output_type": "stream",
          "name": "stdout",
          "text": [
            "[10, 8, 11, 20, 21, 30, 31]\n"
          ]
        }
      ]
    },
    {
      "cell_type": "code",
      "source": [
        "# 2.5 Removing number from List\n",
        "number_list = [10, 11, 20, 21, 30]\n",
        "number_list.remove(20)    # Remove by value\n",
        "popped = number_list.pop()    # Remove & return last item\n",
        "print(popped) # 30\n",
        "print(number_list)\n"
      ],
      "metadata": {
        "colab": {
          "base_uri": "https://localhost:8080/"
        },
        "id": "7HuHLSRgMB99",
        "outputId": "89eac962-1459-4ca9-ae65-a254c620139f"
      },
      "execution_count": 6,
      "outputs": [
        {
          "output_type": "stream",
          "name": "stdout",
          "text": [
            "30\n",
            "[10, 11, 21]\n"
          ]
        }
      ]
    },
    {
      "cell_type": "code",
      "source": [
        "# 2.5 organinzing / sorting list  of 5 numbers\n",
        "\n",
        "number_list = [10, 11, 20, 21, 30]\n",
        "number_list.sort() # Alphabetical order\n",
        "print(number_list)\n",
        "number_list.reverse() # Reverse order\n",
        "print(number_list)\n",
        "\n",
        "print(\"Updated and sorted list:\", number_list)"
      ],
      "metadata": {
        "colab": {
          "base_uri": "https://localhost:8080/"
        },
        "id": "bd_F1ZQfM6-i",
        "outputId": "3259d0fd-c5e3-4e1f-d81a-1bbb3963abbf"
      },
      "execution_count": 7,
      "outputs": [
        {
          "output_type": "stream",
          "name": "stdout",
          "text": [
            "[10, 11, 20, 21, 30]\n",
            "[30, 21, 20, 11, 10]\n",
            "Updated and sorted list: [30, 21, 20, 11, 10]\n"
          ]
        }
      ]
    },
    {
      "cell_type": "code",
      "source": [
        "# 2.6 Creating a dictionary about yourself with at least 4 key-value pairs.\n",
        "\n",
        "about_myself = {\n",
        "\"name\": \"Aliza\",\n",
        "\"age\": 30,\n",
        "\"university\": \"GSTU_Gopalganj\",\n",
        "\"courses\": [\"Python\", \"Data Science\", \"Web Development\"],\n",
        "\"interests\": [\"Environmental contamination\", \"Scientific writing\"]\n",
        "}\n",
        "\n",
        "# Print the dictionary\n",
        "print(about_myself)"
      ],
      "metadata": {
        "colab": {
          "base_uri": "https://localhost:8080/"
        },
        "id": "Oezdj9SpNcyw",
        "outputId": "33b5c6ce-9e55-4e7a-9ede-f64e1a05bc99"
      },
      "execution_count": 26,
      "outputs": [
        {
          "output_type": "stream",
          "name": "stdout",
          "text": [
            "{'name': 'Aliza', 'age': 30, 'university': 'GSTU_Gopalganj', 'courses': ['Python', 'Data Science', 'Web Development'], 'interests': ['Environmental contamination', 'Scientific writing']}\n"
          ]
        }
      ]
    },
    {
      "cell_type": "code",
      "source": [],
      "metadata": {
        "id": "shmINFhlmZnb"
      },
      "execution_count": null,
      "outputs": []
    },
    {
      "cell_type": "code",
      "source": [
        "# 2.7 Creating a tuple with latitude and longitude of Shaheed Minar, Dhaka\n",
        "coordinates = (23.7276, 90.3925)\n",
        "\n",
        "print(\"Shaheed Minar Coordinates:\", coordinates)\n"
      ],
      "metadata": {
        "colab": {
          "base_uri": "https://localhost:8080/"
        },
        "id": "dSz8bUQ4N6ZK",
        "outputId": "eefd71ad-8d28-4b3d-e77e-f45c796709d2"
      },
      "execution_count": 28,
      "outputs": [
        {
          "output_type": "stream",
          "name": "stdout",
          "text": [
            "Shaheed Minar Coordinates: (23.7276, 90.3925)\n"
          ]
        }
      ]
    },
    {
      "cell_type": "code",
      "source": [
        "# 2.7 Createing a tuple\n",
        "mixed = (\"Dhaka\", 23.8, True, 2023)\n",
        "# Single-item tuple needs a comma\n",
        "single = (42,)  # Without comma: just an int\n",
        "print(mixed)\n",
        "print(single)"
      ],
      "metadata": {
        "colab": {
          "base_uri": "https://localhost:8080/"
        },
        "id": "jpFbpxSUP3EO",
        "outputId": "0974807b-b60c-433f-b703-88b41091049c"
      },
      "execution_count": null,
      "outputs": [
        {
          "output_type": "stream",
          "name": "stdout",
          "text": [
            "('Dhaka', 23.8, True, 2023)\n",
            "(42,)\n"
          ]
        }
      ]
    },
    {
      "cell_type": "code",
      "source": [],
      "metadata": {
        "id": "w0msr38_coUn"
      },
      "execution_count": null,
      "outputs": []
    },
    {
      "cell_type": "code",
      "source": [
        "# 2.8 Creating two set of colors and find their union and intersection\n",
        "colors1 = {\"red\", \"orange\", \"yellow\"}\n",
        "colors2 = {\"blue\", \"green\", \"purple\", \"yellow\"}\n",
        "\n",
        "# union\n",
        "all_colors = colors1 | colors2\n",
        "\n",
        "# intersection\n",
        "common_colors = colors1 & colors2\n",
        "\n",
        "print(\"Union of colors:\", all_colors)\n",
        "print(\"Intersection of colors:\", common_colors)\n"
      ],
      "metadata": {
        "colab": {
          "base_uri": "https://localhost:8080/"
        },
        "id": "WBLwxw20Qa0I",
        "outputId": "c87e030c-e8c3-4d40-dea5-29cfd66c2dbb"
      },
      "execution_count": 29,
      "outputs": [
        {
          "output_type": "stream",
          "name": "stdout",
          "text": [
            "Union of colors: {'blue', 'purple', 'yellow', 'orange', 'red', 'green'}\n",
            "Intersection of colors: {'yellow'}\n"
          ]
        }
      ]
    },
    {
      "cell_type": "markdown",
      "source": [
        "## **Conditional**"
      ],
      "metadata": {
        "id": "WyPxn3niT-lj"
      }
    },
    {
      "cell_type": "code",
      "source": [
        "# 2.9 Writing a program that checks if a number is positive, negative, or zero\n",
        "number = int (input(\"Enter a number: \"))\n",
        "\n",
        "if number > 0:\n",
        "  print (\"The Number is Positive\")\n",
        "elif number < 0:\n",
        "  print(\"Number is negative\")\n",
        "else:\n",
        "  print(\"The number is 0\")\n"
      ],
      "metadata": {
        "colab": {
          "base_uri": "https://localhost:8080/"
        },
        "id": "T-AW8CYxR2gf",
        "outputId": "202402da-de30-4ec6-a3d4-c97351a8ae0d"
      },
      "execution_count": 3,
      "outputs": [
        {
          "output_type": "stream",
          "name": "stdout",
          "text": [
            "Enter a number: -1\n",
            "Number is negative\n"
          ]
        }
      ]
    },
    {
      "cell_type": "code",
      "source": [
        "# 2.10 nested if statements: Writing a program that checks eligibility for a discount (student AND under 25, OR senior over 60)\n",
        "\n",
        "Student = input (\"are you a student? (yes/no): \")\n",
        "\n",
        "age = int(input(\"enter your age: \"))\n",
        "\n",
        "\n",
        "if (Student==\"yes\" and age <= 25) or ( age > 60):\n",
        "        print(\"You are eligible for discount\")\n",
        "else:\n",
        "     print(\"You are not eligible for discount\")\n",
        "\n",
        "\n"
      ],
      "metadata": {
        "colab": {
          "base_uri": "https://localhost:8080/"
        },
        "id": "Cfc0dV2WTnt0",
        "outputId": "f8834da9-b692-46ec-bbf8-a309113a7c43"
      },
      "execution_count": 8,
      "outputs": [
        {
          "output_type": "stream",
          "name": "stdout",
          "text": [
            "are you a student? (yes/no): yes\n",
            "enter your age: 23\n",
            "You are eligible for discount\n"
          ]
        }
      ]
    },
    {
      "cell_type": "markdown",
      "source": [
        "## **Loop**"
      ],
      "metadata": {
        "id": "ntNY_yqXWxci"
      }
    },
    {
      "cell_type": "code",
      "source": [
        "#2.11  Write a program that prints the first 10 even numbers\n",
        "\n",
        "i=0\n",
        "num= 2\n",
        "while i < 10:\n",
        "    print(i)\n",
        "    num += 2\n",
        "    i = i + 2\n",
        "\n",
        "\n"
      ],
      "metadata": {
        "colab": {
          "base_uri": "https://localhost:8080/"
        },
        "id": "C1p-4uQLW0ph",
        "outputId": "b3fa21f5-a17e-46c2-ced4-2cc5c7a80621"
      },
      "execution_count": 8,
      "outputs": [
        {
          "output_type": "stream",
          "name": "stdout",
          "text": [
            "0\n",
            "2\n",
            "4\n",
            "6\n",
            "8\n"
          ]
        }
      ]
    },
    {
      "cell_type": "code",
      "source": [
        "# 2.11 Write a program that prints the first 10 even numbers\n",
        "\n",
        "\n",
        "\n",
        "for i in range(1, 11):\n",
        "    print(i * 2)"
      ],
      "metadata": {
        "colab": {
          "base_uri": "https://localhost:8080/"
        },
        "id": "JZbWP8VoZJHN",
        "outputId": "51a76ef3-169b-427f-fde3-c3ff9bf2074d"
      },
      "execution_count": 13,
      "outputs": [
        {
          "output_type": "stream",
          "name": "stdout",
          "text": [
            "2\n",
            "4\n",
            "6\n",
            "8\n",
            "10\n",
            "12\n",
            "14\n",
            "16\n",
            "18\n",
            "20\n"
          ]
        }
      ]
    },
    {
      "cell_type": "code",
      "source": [
        "# 2.12 Write a program that prints a simple number pyramid pattern using nested loops\n",
        "\n",
        "for i in range(1, rows + 1):\n",
        "    print(\" \" * (rows - i), end=\"\")\n",
        "    for j in range(1, i + 1):\n",
        "        print(j, end=\" \")\n",
        "\n",
        "    print()\n"
      ],
      "metadata": {
        "colab": {
          "base_uri": "https://localhost:8080/"
        },
        "id": "D9UOu3iFaSoK",
        "outputId": "ba276635-6a60-4904-a2a8-d61cf89d01b2"
      },
      "execution_count": 16,
      "outputs": [
        {
          "output_type": "stream",
          "name": "stdout",
          "text": [
            "    1 \n",
            "   1 2 \n",
            "  1 2 3 \n",
            " 1 2 3 4 \n",
            "1 2 3 4 5 \n"
          ]
        }
      ]
    },
    {
      "cell_type": "markdown",
      "source": [],
      "metadata": {
        "id": "ckejsinAlWFX"
      }
    },
    {
      "cell_type": "code",
      "source": [
        "# 2.13 Creating a function that converts temperature from Celsius to Fahrenheit using the formula: F = (C × 9/5) + 32\n",
        "\n",
        "def celsius_to_fahrenheit(celsius):\n",
        "    fahrenheit = (celsius * 9/5) + 32\n",
        "    return fahrenheit\n",
        "\n",
        "temp_c = 25\n",
        "temp_f = celsius_to_fahrenheit(temp_c)\n",
        "print(f\"{temp_c}°C is equal to {temp_f}°F\")\n"
      ],
      "metadata": {
        "colab": {
          "base_uri": "https://localhost:8080/"
        },
        "id": "WPvePdIIlawM",
        "outputId": "04513e3d-181d-4059-8afb-6cf38c07fadb"
      },
      "execution_count": 17,
      "outputs": [
        {
          "output_type": "stream",
          "name": "stdout",
          "text": [
            "25°C is equal to 77.0°F\n"
          ]
        }
      ]
    },
    {
      "cell_type": "code",
      "source": [
        "# 2.14 Creating a function with default parameters that calculates the area of a rectangle.\n",
        "\n",
        "def calculate_area(length=10, width=5):\n",
        "    area = length * width\n",
        "    return area\n",
        "\n",
        "print(\"Default area:\", calculate_area())\n",
        "print(\"Custom area:\", calculate_area(7, 3))\n"
      ],
      "metadata": {
        "colab": {
          "base_uri": "https://localhost:8080/"
        },
        "id": "sLH-qPrObJ1e",
        "outputId": "a49cc83d-1158-4499-9b64-2780c3b20933"
      },
      "execution_count": 18,
      "outputs": [
        {
          "output_type": "stream",
          "name": "stdout",
          "text": [
            "Default area: 50\n",
            "Custom area: 21\n"
          ]
        }
      ]
    },
    {
      "cell_type": "code",
      "source": [
        "#pattern printing\n",
        "for i in range(1, 6):\n",
        " print(\"*\" * i)"
      ],
      "metadata": {
        "colab": {
          "base_uri": "https://localhost:8080/"
        },
        "id": "AwbjxmG-b5j-",
        "outputId": "114a2a71-eeec-4d87-b3ad-f72aebe6221a"
      },
      "execution_count": null,
      "outputs": [
        {
          "output_type": "stream",
          "name": "stdout",
          "text": [
            "*\n",
            "**\n",
            "***\n",
            "****\n",
            "*****\n"
          ]
        }
      ]
    },
    {
      "cell_type": "markdown",
      "source": [
        "## **Function**"
      ],
      "metadata": {
        "id": "wEIrckHKd_oY"
      }
    },
    {
      "cell_type": "code",
      "source": [
        "# Defining a simple function\n",
        "def greet():\n",
        "  print(\"Hello! Welcome to Python programming.\")\n",
        "# Calling the function\n",
        "greet()\n",
        "# Function with parameters\n",
        "def greet_person(name):\n",
        "  print(f\"Hello, {name}! How are you today?\")\n",
        "greet_person(\"Tahmid\")  # Hello, Tahmid! How are you today?\n",
        "# Function with return value\n",
        "def add_numbers(a, b):\n",
        "  sum = a + b\n",
        "  return sum\n",
        "result = add_numbers(5, 3)\n",
        "print(f\"The sum is {result}\")  # The sum is 8"
      ],
      "metadata": {
        "colab": {
          "base_uri": "https://localhost:8080/"
        },
        "id": "iyBrlNUBeDAO",
        "outputId": "93cbc5fa-47f5-4c0b-c037-6ad593ccc0e9"
      },
      "execution_count": null,
      "outputs": [
        {
          "output_type": "stream",
          "name": "stdout",
          "text": [
            "Hello! Welcome to Python programming.\n",
            "Hello, Tahmid! How are you today?\n",
            "The sum is 8\n"
          ]
        }
      ]
    },
    {
      "cell_type": "code",
      "source": [
        "def greet(name, message=\"Good morning\"):\n",
        "  print(f\"{message}, {name}!\")\n",
        "greet(\"Nadia\")  # Good morning, Nadia!\n",
        "greet(\"Karim\", \"Hello\")  # Hello, Karim!"
      ],
      "metadata": {
        "colab": {
          "base_uri": "https://localhost:8080/"
        },
        "id": "c0mGQz3CekQ_",
        "outputId": "b00e750b-915c-49d1-bde2-adf385280684"
      },
      "execution_count": null,
      "outputs": [
        {
          "output_type": "stream",
          "name": "stdout",
          "text": [
            "Good morning, Nadia!\n",
            "Hello, Karim!\n"
          ]
        }
      ]
    },
    {
      "cell_type": "code",
      "source": [
        "def describe_person(name, age, city):\n",
        "  print(f\"{name} is {age} years old from {city}\")\n",
        "# Order doesn't matter with keyword args\n",
        "describe_person(city=\"Chittagong\", name=\"Rahim\", age=25)"
      ],
      "metadata": {
        "colab": {
          "base_uri": "https://localhost:8080/"
        },
        "id": "0pBvtZWIey-s",
        "outputId": "f4cc1471-1316-4837-ab4d-42eabee3d96c"
      },
      "execution_count": null,
      "outputs": [
        {
          "output_type": "stream",
          "name": "stdout",
          "text": [
            "Rahim is 25 years old from Chittagong\n"
          ]
        }
      ]
    },
    {
      "cell_type": "code",
      "source": [
        "def calculate_stats(numbers):\n",
        "  total = sum(numbers)\n",
        "  average = total / len(numbers)\n",
        "  maximum = max(numbers)\n",
        "  minimum = min(numbers)\n",
        "  return total, average, maximum, minimum\n",
        "stats = calculate_stats([5, 10, 15, 20])\n",
        "print(stats)  # (50, 12.5, 20, 5)"
      ],
      "metadata": {
        "colab": {
          "base_uri": "https://localhost:8080/"
        },
        "id": "p32c4GBFfElM",
        "outputId": "86360a91-dd27-41b2-99fc-c78c126b8dd0"
      },
      "execution_count": null,
      "outputs": [
        {
          "output_type": "stream",
          "name": "stdout",
          "text": [
            "(50, 12.5, 20, 5)\n"
          ]
        }
      ]
    },
    {
      "cell_type": "code",
      "source": [
        "total = 0  # Global variable\n",
        "\n",
        "def add_to_total(value):\n",
        "    global total  # Access global variable\n",
        "    total += value\n",
        "    return total\n",
        "\n",
        "print(add_to_total(5))  # 5\n",
        "print(add_to_total(10))  # 15"
      ],
      "metadata": {
        "colab": {
          "base_uri": "https://localhost:8080/"
        },
        "id": "vlXi6Mz7f5Wg",
        "outputId": "973df3f1-f276-47cb-eca1-bf48612b7563"
      },
      "execution_count": null,
      "outputs": [
        {
          "output_type": "stream",
          "name": "stdout",
          "text": [
            "5\n",
            "15\n"
          ]
        }
      ]
    },
    {
      "cell_type": "code",
      "source": [
        "# Math module\n",
        "import math\n",
        "print(math.pi)  # 3.141592653589793\n",
        "print(math.sqrt(16))  # 4.0\n",
        "# Random module\n",
        "import random\n",
        "print(random.randint(1, 10))  # Random number\n",
        "print(random.choice([\"apple\", \"banana\", \"orange\"]))\n",
        " # Datetime module\n",
        "import datetime\n",
        "current_date = datetime.datetime.now()\n",
        "print(current_date)"
      ],
      "metadata": {
        "colab": {
          "base_uri": "https://localhost:8080/"
        },
        "id": "y3zP98r_gqdm",
        "outputId": "f4d36454-4e25-4fe0-abac-ae187ad78e51"
      },
      "execution_count": null,
      "outputs": [
        {
          "output_type": "stream",
          "name": "stdout",
          "text": [
            "3.141592653589793\n",
            "4.0\n",
            "9\n",
            "apple\n",
            "2025-08-15 06:55:34.862773\n"
          ]
        }
      ]
    },
    {
      "cell_type": "code",
      "source": [
        "# mymath.py\n",
        "%%writefile mymath.py\n",
        "def add(a, b):\n",
        "  return a + b\n",
        "def subtract(a, b):\n",
        "  return a - b\n",
        "PI = 3.14159"
      ],
      "metadata": {
        "colab": {
          "base_uri": "https://localhost:8080/"
        },
        "id": "multwf5ghBOu",
        "outputId": "e3fb3cda-c585-47a0-80c2-090cbefa1eeb"
      },
      "execution_count": null,
      "outputs": [
        {
          "output_type": "stream",
          "name": "stdout",
          "text": [
            "Writing mymath.py\n"
          ]
        }
      ]
    },
    {
      "cell_type": "code",
      "source": [
        "import mymath\n",
        "print(mymath.add(5, 3))      # 8\n",
        "print(mymath.subtract(10, 4)) # 6\n",
        "print(mymath.PI)             # 3.14159"
      ],
      "metadata": {
        "colab": {
          "base_uri": "https://localhost:8080/"
        },
        "id": "w2bom35dhMUT",
        "outputId": "2d4a38cf-efe7-44a1-edf0-aaba597a4964"
      },
      "execution_count": null,
      "outputs": [
        {
          "output_type": "stream",
          "name": "stdout",
          "text": [
            "8\n",
            "6\n",
            "3.14159\n"
          ]
        }
      ]
    }
  ]
}